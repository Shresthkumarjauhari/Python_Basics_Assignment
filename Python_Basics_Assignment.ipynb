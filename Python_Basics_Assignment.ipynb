{
  "nbformat": 4,
  "nbformat_minor": 0,
  "metadata": {
    "colab": {
      "provenance": []
    },
    "kernelspec": {
      "name": "python3",
      "display_name": "Python 3"
    },
    "language_info": {
      "name": "python"
    }
  },
  "cells": [
    {
      "cell_type": "markdown",
      "source": [
        "**Python Basics Questions**\n",
        "\n",
        "1. **What is Python, and why is it popular**?\n",
        "\n",
        "    - Python is a high-level, interpreted programming language known for its simple syntax and readability.\n",
        "    Popular because:\n",
        "\n",
        "    - Easy to learn and use\n",
        "\n",
        "    - Huge community and libraries\n",
        "\n",
        "    - Versatile (web, data science, automation, etc.)\n",
        "\n",
        "2. **What is an interpreter in Python?**\n",
        "\n",
        "    - An interpreter is a program that executes Python code line-by-line instead of compiling it all at once.\n",
        "\n",
        "3. **What are pre-defined keywords in Python?**\n",
        "\n",
        "    - Keywords are reserved words that have special meaning, such as if, else, def, class, etc.\n",
        "\n",
        "4. **Can keywords be used as variable names?**\n",
        "\n",
        "    - No, keywords cannot be used as variable names. Python will raise a syntax error.\n",
        "\n",
        "5. **What is mutability in Python?**\n",
        "\n",
        "    - Mutability refers to whether an object can be changed after it's created.\n",
        "\n",
        "6. **Why are lists mutable, but tuples are immutable?**\n",
        "\n",
        "    - Lists are designed to be modified (e.g., append, remove), while tuples are used for fixed collections, making them immutable for data integrity.\n",
        "\n",
        "7. **What is the difference between == and is operators in Python?**\n",
        "\n",
        "    - == checks value equality.\n",
        "\n",
        "      is checks identity (if two references point to the same object in memory).\n",
        "\n",
        "8. **What are logical operators in Python?**\n",
        "\n",
        "    - and: True if both operands are true\n",
        "\n",
        "      or: True if at least one operand is true\n",
        "\n",
        "      not: Inverts the truth value\n",
        "\n",
        "9. **What is type casting in Python?**\n",
        "\n",
        "    - Type casting is converting a variable from one data type to another, e.g., int(\"5\").\n",
        "\n",
        "10. **What is the difference between implicit and explicit type casting?**\n",
        "\n",
        "    - Implicit: Automatically handled by Python (3 + 2.5 becomes 5.5)\n",
        "\n",
        "Explicit: Manually done by the programmer using functions like int(), float(), str()\n",
        "\n",
        "11. **What is the purpose of conditional statements in Python?**\n",
        "\n",
        "    - They control the flow of the program based on conditions (if, else, elif).\n",
        "\n",
        "12. **How does the elif statement work?**\n",
        "\n",
        "    - elif stands for \"else if\" and checks another condition if the previous if was False.\n",
        "\n",
        "13. **What is the difference between for and while loops?**\n",
        "\n",
        "    - for is used when the number of iterations is known.\n",
        "\n",
        "      while is used when the condition depends on something within the loop.\n",
        "\n",
        "14. **Describe a scenario where a while loop is more suitable than a for loop.**\n",
        "\n",
        "    - When waiting for user input like while input != \"exit\":, as you      don't know how many times it'll run.\n"
      ],
      "metadata": {
        "id": "LDqW7UwvUR79"
      }
    },
    {
      "cell_type": "markdown",
      "source": [
        "1. **Write a Python program to print \"Hello, World!**"
      ],
      "metadata": {
        "id": "8ra8j9DjYA-D"
      }
    },
    {
      "cell_type": "code",
      "source": [
        "print(\"Hello, World!\")\n"
      ],
      "metadata": {
        "colab": {
          "base_uri": "https://localhost:8080/"
        },
        "id": "2A8TvpgkXLs3",
        "outputId": "d9915749-43d3-4b2b-a343-c959bb2e3e7d"
      },
      "execution_count": 2,
      "outputs": [
        {
          "output_type": "stream",
          "name": "stdout",
          "text": [
            "Hello, World!\n"
          ]
        }
      ]
    },
    {
      "cell_type": "markdown",
      "source": [
        "2. **Write a Python program that displays your name and age.**"
      ],
      "metadata": {
        "id": "PsEAuL8vbPp-"
      }
    },
    {
      "cell_type": "code",
      "source": [
        "name = \"Shresth_kumar_jauhari\"\n",
        "age = 23\n",
        "print(f\"My name is {name} and I am {age} years old.\")\n"
      ],
      "metadata": {
        "colab": {
          "base_uri": "https://localhost:8080/"
        },
        "id": "IzjUm6vLbXqj",
        "outputId": "d2d9c15a-df0f-4b58-eeea-6c4510c0a493"
      },
      "execution_count": 3,
      "outputs": [
        {
          "output_type": "stream",
          "name": "stdout",
          "text": [
            "My name is Shresth_kumar_jauhari and I am 23 years old.\n"
          ]
        }
      ]
    },
    {
      "cell_type": "markdown",
      "source": [
        "3. **Write code to print all the pre-defined keywords in Python using the keyword library.**"
      ],
      "metadata": {
        "id": "gF4z8KbmbuEC"
      }
    },
    {
      "cell_type": "code",
      "source": [
        "import keyword\n",
        "print(keyword.kwlist)\n"
      ],
      "metadata": {
        "colab": {
          "base_uri": "https://localhost:8080/"
        },
        "id": "eOWI9kIsb40V",
        "outputId": "9238d340-4333-4d77-a99a-8cabcbc1e0e3"
      },
      "execution_count": 4,
      "outputs": [
        {
          "output_type": "stream",
          "name": "stdout",
          "text": [
            "['False', 'None', 'True', 'and', 'as', 'assert', 'async', 'await', 'break', 'class', 'continue', 'def', 'del', 'elif', 'else', 'except', 'finally', 'for', 'from', 'global', 'if', 'import', 'in', 'is', 'lambda', 'nonlocal', 'not', 'or', 'pass', 'raise', 'return', 'try', 'while', 'with', 'yield']\n"
          ]
        }
      ]
    },
    {
      "cell_type": "markdown",
      "source": [
        "4. **Write a program that checks if a given word is a Python keyword.**"
      ],
      "metadata": {
        "id": "4pbWnlL0b_An"
      }
    },
    {
      "cell_type": "code",
      "source": [
        "import keyword\n",
        "word = input(\"Enter a word: \")\n",
        "print(f\"'{word}' is a keyword:\" , keyword.iskeyword(word))\n"
      ],
      "metadata": {
        "colab": {
          "base_uri": "https://localhost:8080/"
        },
        "id": "_Os8CpLMcFVE",
        "outputId": "687f5979-3ab9-4cef-970c-e0d8f8560ace"
      },
      "execution_count": 5,
      "outputs": [
        {
          "output_type": "stream",
          "name": "stdout",
          "text": [
            "Enter a word: is\n",
            "'is' is a keyword: True\n"
          ]
        }
      ]
    },
    {
      "cell_type": "markdown",
      "source": [
        "5. **Create a list and tuple in Python,and demonstrate how attempting to change an element works differently for each.**"
      ],
      "metadata": {
        "id": "aDVbLqCCcTkX"
      }
    },
    {
      "cell_type": "code",
      "source": [
        "# List (mutable)\n",
        "my_list = [1, 2, 3,4]\n",
        "my_list[0] = 10\n",
        "print(\"Modified list:\", my_list)\n",
        "\n",
        "# Tuple (immutable)\n",
        "my_tuple = (1, 2, 3)\n",
        "try:\n",
        "    my_tuple[0] = 10\n",
        "except TypeError as e:\n",
        "    print(\"Error with tuple:\", e)\n",
        "\n"
      ],
      "metadata": {
        "colab": {
          "base_uri": "https://localhost:8080/"
        },
        "id": "9CkciCG8caGg",
        "outputId": "898efaef-d8ab-4642-d3e2-c3012049cd7a"
      },
      "execution_count": 9,
      "outputs": [
        {
          "output_type": "stream",
          "name": "stdout",
          "text": [
            "Modified list: [10, 2, 3, 4]\n",
            "Error with tuple: 'tuple' object does not support item assignment\n"
          ]
        }
      ]
    },
    {
      "cell_type": "markdown",
      "source": [
        "6. **Write a function to demonstrate the behavior of mutable and immutable arguments.**"
      ],
      "metadata": {
        "id": "5iPhOL0Ndd-F"
      }
    },
    {
      "cell_type": "code",
      "source": [
        "def test(lst, num):\n",
        "    lst.append(100)\n",
        "    num += 5\n",
        "    print(\"Inside function:\", lst, num)\n",
        "\n",
        "my_list = [1, 2]\n",
        "my_number = 10\n",
        "test(my_list, my_number)\n",
        "print(\"Outside function:\", my_list, my_number)\n"
      ],
      "metadata": {
        "colab": {
          "base_uri": "https://localhost:8080/"
        },
        "id": "E4KFG_ntdnhf",
        "outputId": "a94cec46-d21c-4c94-a020-3a4086c56dda"
      },
      "execution_count": 11,
      "outputs": [
        {
          "output_type": "stream",
          "name": "stdout",
          "text": [
            "Inside function: [1, 2, 100] 15\n",
            "Outside function: [1, 2, 100] 10\n"
          ]
        }
      ]
    },
    {
      "cell_type": "markdown",
      "source": [
        "7. **Write a program that performs basic arithmetic operations on two user-input numbers.**"
      ],
      "metadata": {
        "id": "dMhhoj3lej42"
      }
    },
    {
      "cell_type": "code",
      "source": [
        "a = float(input(\"Enter first number: \"))\n",
        "b = float(input(\"Enter second number: \"))\n",
        "print(\"Sum:\", a + b)\n",
        "print(\"Difference:\", a - b)\n",
        "print(\"Product:\", a * b)\n",
        "print(\"Quotient:\", a / b)\n"
      ],
      "metadata": {
        "colab": {
          "base_uri": "https://localhost:8080/"
        },
        "id": "iuaAxg_CeuY-",
        "outputId": "da47b168-6ca5-4479-a79c-0aad468bd0a6"
      },
      "execution_count": 15,
      "outputs": [
        {
          "output_type": "stream",
          "name": "stdout",
          "text": [
            "Enter first number: 2\n",
            "Enter second number: 6\n",
            "Sum: 8.0\n",
            "Difference: -4.0\n",
            "Product: 12.0\n",
            "Quotient: 0.3333333333333333\n"
          ]
        }
      ]
    },
    {
      "cell_type": "markdown",
      "source": [
        "8. **Write a program to demonstrate the use of logical operators.**"
      ],
      "metadata": {
        "id": "Nc2EGN_gfTQX"
      }
    },
    {
      "cell_type": "code",
      "source": [
        "x = 10\n",
        "y = 20\n",
        "print(x > 5 and y > 15)  # True\n",
        "print(x < 5 or y > 15)   # True\n",
        "print(not(x > 5))        # False\n"
      ],
      "metadata": {
        "colab": {
          "base_uri": "https://localhost:8080/"
        },
        "id": "Q8GRSPsGfbi3",
        "outputId": "8f479260-1339-4191-fbb3-3828ecbc36ea"
      },
      "execution_count": 16,
      "outputs": [
        {
          "output_type": "stream",
          "name": "stdout",
          "text": [
            "True\n",
            "True\n",
            "False\n"
          ]
        }
      ]
    },
    {
      "cell_type": "markdown",
      "source": [
        "9. **Write a Python program to convert user input from string to integer, float, and boolean types.**"
      ],
      "metadata": {
        "id": "9d0YnKUZfrxa"
      }
    },
    {
      "cell_type": "code",
      "source": [
        "s = input(\"Enter a number: \")\n",
        "i = int(s)\n",
        "f = float(s)\n",
        "b = bool(s)\n",
        "print(\"Integer:\", i)\n",
        "print(\"Float:\", f)\n",
        "print(\"Boolean:\", b)\n"
      ],
      "metadata": {
        "colab": {
          "base_uri": "https://localhost:8080/"
        },
        "id": "V0zJTUEuf1dF",
        "outputId": "6a4f23c0-7a3c-4a60-f07a-e6103faa87fa"
      },
      "execution_count": 17,
      "outputs": [
        {
          "output_type": "stream",
          "name": "stdout",
          "text": [
            "Enter a number: 4\n",
            "Integer: 4\n",
            "Float: 4.0\n",
            "Boolean: True\n"
          ]
        }
      ]
    },
    {
      "cell_type": "markdown",
      "source": [
        "10. **Write code to demonstrate type casting with list elements.**"
      ],
      "metadata": {
        "id": "ARslMs2RgAnN"
      }
    },
    {
      "cell_type": "code",
      "source": [
        "str_list = [\"1\", \"2\", \"3\"]\n",
        "int_list = [int(i) for i in str_list]\n",
        "print(\"Converted list:\", int_list)\n"
      ],
      "metadata": {
        "colab": {
          "base_uri": "https://localhost:8080/"
        },
        "id": "3k8xk5LOgKQ6",
        "outputId": "cc55c984-11e7-4a07-9e94-5be63c069c36"
      },
      "execution_count": 18,
      "outputs": [
        {
          "output_type": "stream",
          "name": "stdout",
          "text": [
            "Converted list: [1, 2, 3]\n"
          ]
        }
      ]
    },
    {
      "cell_type": "markdown",
      "source": [
        "11. **Write a program that checks if a number is positive, negative, or zero.**"
      ],
      "metadata": {
        "id": "bRLDIFPUgmV5"
      }
    },
    {
      "cell_type": "code",
      "source": [
        "num = float(input(\"Enter a number: \"))\n",
        "if num > 0:\n",
        "    print(\"Positive\")\n",
        "elif num < 0:\n",
        "    print(\"Negative\")\n",
        "else:\n",
        "    print(\"Zero\")\n"
      ],
      "metadata": {
        "colab": {
          "base_uri": "https://localhost:8080/"
        },
        "id": "nkvMC3fLgtow",
        "outputId": "4f4962fb-6556-4705-cf38-b1ddf4ce264e"
      },
      "execution_count": 25,
      "outputs": [
        {
          "output_type": "stream",
          "name": "stdout",
          "text": [
            "Enter a number: -5\n",
            "Negative\n"
          ]
        }
      ]
    },
    {
      "cell_type": "markdown",
      "source": [
        " 12. **Write a for loop to print numbers from 1 to 10.**\n"
      ],
      "metadata": {
        "id": "dtCvcDQ5hDXf"
      }
    },
    {
      "cell_type": "code",
      "source": [
        "for i in range(1, 11):\n",
        "    print(i)\n"
      ],
      "metadata": {
        "colab": {
          "base_uri": "https://localhost:8080/"
        },
        "id": "WEvrEr1ghL6f",
        "outputId": "19614245-af57-49b9-ce50-a86abf8aded4"
      },
      "execution_count": 26,
      "outputs": [
        {
          "output_type": "stream",
          "name": "stdout",
          "text": [
            "1\n",
            "2\n",
            "3\n",
            "4\n",
            "5\n",
            "6\n",
            "7\n",
            "8\n",
            "9\n",
            "10\n"
          ]
        }
      ]
    },
    {
      "cell_type": "markdown",
      "source": [
        "13. **Write a Python program to find the sum of all even numbers between 1 and 50.**"
      ],
      "metadata": {
        "id": "68sIIzBThRsO"
      }
    },
    {
      "cell_type": "code",
      "source": [
        "total = 0\n",
        "for i in range(2, 51, 2):\n",
        "    total += i\n",
        "print(\"Sum of even numbers:\", total)\n"
      ],
      "metadata": {
        "colab": {
          "base_uri": "https://localhost:8080/"
        },
        "id": "hNhOcSWHhb1b",
        "outputId": "f9585fe9-4a3d-4d66-bcd6-582915c0d696"
      },
      "execution_count": 27,
      "outputs": [
        {
          "output_type": "stream",
          "name": "stdout",
          "text": [
            "Sum of even numbers: 650\n"
          ]
        }
      ]
    },
    {
      "cell_type": "markdown",
      "source": [
        "14. **Write a program to reverse a string using a while loop.**"
      ],
      "metadata": {
        "id": "Q0TqdkizhlUb"
      }
    },
    {
      "cell_type": "code",
      "source": [
        "text = input(\"Enter a string: \")\n",
        "reversed_text = ''\n",
        "i = len(text) - 1\n",
        "while i >= 0:\n",
        "    reversed_text += text[i]\n",
        "    i -= 1\n",
        "print(\"Reversed:\", reversed_text)\n"
      ],
      "metadata": {
        "colab": {
          "base_uri": "https://localhost:8080/"
        },
        "id": "yVQS7Y1WhuT5",
        "outputId": "0d029b90-bbfd-4c96-e54f-6e30515ea0d1"
      },
      "execution_count": 29,
      "outputs": [
        {
          "output_type": "stream",
          "name": "stdout",
          "text": [
            "Enter a string: shresth\n",
            "Reversed: htserhs\n"
          ]
        }
      ]
    },
    {
      "cell_type": "markdown",
      "source": [
        "15. **Write a Python program to calculate the factorial of a number provided by the user using a while loop.**"
      ],
      "metadata": {
        "id": "cmV-S5mkh-NI"
      }
    },
    {
      "cell_type": "code",
      "source": [
        "num = int(input(\"Enter a number: \"))\n",
        "fact = 1\n",
        "i = 1\n",
        "while i <= num:\n",
        "    fact *= i\n",
        "    i += 1\n",
        "print(f\"Factorial of {num} is {fact}\")\n"
      ],
      "metadata": {
        "colab": {
          "base_uri": "https://localhost:8080/"
        },
        "id": "iU28uMUGiG3F",
        "outputId": "aa7cdbfd-e84a-4642-ae54-3db0d508fc63"
      },
      "execution_count": 32,
      "outputs": [
        {
          "output_type": "stream",
          "name": "stdout",
          "text": [
            "Enter a number: 6\n",
            "Factorial of 6 is 720\n"
          ]
        }
      ]
    }
  ]
}